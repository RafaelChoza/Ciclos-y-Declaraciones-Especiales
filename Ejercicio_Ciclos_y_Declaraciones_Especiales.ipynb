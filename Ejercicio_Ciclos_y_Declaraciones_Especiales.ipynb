{
 "cells": [
  {
   "cell_type": "code",
   "execution_count": 15,
   "id": "bee07aad",
   "metadata": {},
   "outputs": [
    {
     "name": "stdout",
     "output_type": "stream",
     "text": [
      "stop5\n"
     ]
    }
   ],
   "source": [
    "import time\n",
    "\n",
    "def countup(time_sec):\n",
    "    current_time = 0\n",
    "    while current_time <= time_sec:\n",
    "        mins, secs = divmod(current_time, 60)\n",
    "        timeformat = '{:02d}:{:02d}'.format(mins, secs)\n",
    "        print(timeformat, end='\\r')\n",
    "        time.sleep(1)\n",
    "        current_time += 1\n",
    "        \n",
    "    print(\"stop\")\n",
    "    \n",
    "countup(15)\n"
   ]
  },
  {
   "cell_type": "code",
   "execution_count": null,
   "id": "8ec4fbf4",
   "metadata": {},
   "outputs": [],
   "source": []
  }
 ],
 "metadata": {
  "kernelspec": {
   "display_name": "Python 3 (ipykernel)",
   "language": "python",
   "name": "python3"
  },
  "language_info": {
   "codemirror_mode": {
    "name": "ipython",
    "version": 3
   },
   "file_extension": ".py",
   "mimetype": "text/x-python",
   "name": "python",
   "nbconvert_exporter": "python",
   "pygments_lexer": "ipython3",
   "version": "3.11.7"
  }
 },
 "nbformat": 4,
 "nbformat_minor": 5
}
